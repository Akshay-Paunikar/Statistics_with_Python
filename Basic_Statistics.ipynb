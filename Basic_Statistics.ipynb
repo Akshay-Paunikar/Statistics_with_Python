{
 "cells": [
  {
   "attachments": {},
   "cell_type": "markdown",
   "metadata": {},
   "source": [
    "### What is Statistics?"
   ]
  },
  {
   "attachments": {},
   "cell_type": "markdown",
   "metadata": {},
   "source": [
    "Statistics is a branch of mathematics that involves the collection, analysis, interpretation, presentation, and organization of numerical data. It is a way of quantifying and understanding the world around us by using data and statistical methods.<br>\n",
    "\n",
    "Statistics is used in a variety of fields, including business, finance, healthcare, social sciences, natural sciences, and engineering. Some of the key concepts in statistics include probability, hypothesis testing, regression analysis, and sampling techniques.<br>\n",
    "\n",
    "Statisticians use various tools and techniques to analyze and interpret data, such as graphs, tables, summary statistics, and statistical models. They also use computer software and programming languages to automate and streamline data analysis processes.<br>\n",
    "\n",
    "Statistics plays an important role in decision-making processes, as it helps to identify patterns and trends in data, make predictions and forecasts, and draw conclusions based on empirical evidence."
   ]
  },
  {
   "attachments": {},
   "cell_type": "markdown",
   "metadata": {},
   "source": [
    "Statistics is a vast field that can be broadly divided into two types:\n",
    "\n",
    "- Descriptive Statistics:\n",
    "\n",
    "Descriptive statistics involve methods of organizing, summarizing, and presenting data in a meaningful way. These methods include measures of central tendency (such as mean, median, and mode) and measures of dispersion (such as range, variance, and standard deviation). Descriptive statistics are used to describe the main features of a dataset, such as its distribution, shape, and variability.\n",
    "\n",
    "- Inferential Statistics:\n",
    "\n",
    "Inferential statistics involve methods of using sample data to make inferences or draw conclusions about a larger population. These methods include hypothesis testing, confidence intervals, and regression analysis. Inferential statistics are used to make predictions or generalizations about a population based on a sample of data."
   ]
  },
  {
   "attachments": {},
   "cell_type": "markdown",
   "metadata": {},
   "source": [
    "### What is population and sample in statistics with example?"
   ]
  },
  {
   "attachments": {},
   "cell_type": "markdown",
   "metadata": {},
   "source": [
    "In statistics, a population refers to the entire group of individuals, objects, or events that we are interested in studying. For example, if we want to study the heights of all adults in the United States, then the population would be all adult residents of the United States.\n",
    "\n",
    "On the other hand, a sample is a smaller subset of the population that is selected for study. The purpose of selecting a sample is to make inferences about the population as a whole. For example, if we want to estimate the average height of all adults in the United States, we could select a random sample of adult residents and measure their heights. We could then use the data from the sample to make an inference about the average height of the entire population.\n",
    "\n",
    "In summary, the population refers to the entire group of individuals, objects, or events that we want to study, while a sample is a smaller subset of the population that is selected for study.\n",
    "\n",
    "Example: Suppose we want to study the average age of students in a university. The population in this case would be all the students in the university. However, it may not be practical or feasible to collect data from all students in the university. Therefore, we could select a sample of, say, 500 students, and collect data on their ages. We could then use the data from the sample to estimate the average age of all students in the university."
   ]
  },
  {
   "attachments": {},
   "cell_type": "markdown",
   "metadata": {},
   "source": [
    "### What are the types of data in Statistics?"
   ]
  },
  {
   "attachments": {},
   "cell_type": "markdown",
   "metadata": {},
   "source": [
    "In statistics, there are two main types of data:\n",
    "\n",
    "Quantitative data: This type of data consists of numerical values that can be measured or counted. It can be further divided into two sub-types:\n",
    "\n",
    "a. Continuous data: This type of data can take on any numerical value within a given range. For example, the height of a person, the weight of an object, or the temperature of a room.\n",
    "\n",
    "b. Discrete data: This type of data can only take on specific numerical values. For example, the number of children in a family, the number of cars in a parking lot, or the number of coins in a piggy bank.\n",
    "\n",
    "Qualitative data: This type of data consists of non-numerical values that cannot be measured or counted. It can be further divided into two sub-types:\n",
    "\n",
    "a. Nominal data: This type of data consists of categories that are not ordered. For example, the color of a car, the type of animal in a zoo, or the gender of a person.\n",
    "\n",
    "b. Ordinal data: This type of data consists of categories that are ordered. For example, the education level of a person, the rating of a movie, or the size of a T-shirt.\n",
    "\n",
    "It is important to identify the type of data in a study, as this can help determine which statistical methods and techniques are appropriate for analyzing the data."
   ]
  },
  {
   "attachments": {},
   "cell_type": "markdown",
   "metadata": {},
   "source": [
    "### What is Interval & Ratio in statistics?"
   ]
  },
  {
   "attachments": {},
   "cell_type": "markdown",
   "metadata": {},
   "source": [
    "Interval and ratio are two subtypes of quantitative data in statistics.\n",
    "\n",
    "Interval data is quantitative data that has numerical values where the difference between any two values is meaningful. In other words, interval data has a scale that allows for the comparison of the sizes of differences between values. An example of interval data is temperature, where the difference between 20 and 30 degrees Celsius is the same as the difference between 30 and 40 degrees Celsius.\n",
    "\n",
    "Ratio data, on the other hand, is a type of quantitative data that has numerical values where the ratio between any two values is meaningful. Ratio data has a scale that allows for the comparison of the sizes of differences and the ratios between values. An example of ratio data is weight, where 10 kg is twice as heavy as 5 kg.\n",
    "\n",
    "The main difference between interval and ratio data is the presence or absence of a true zero point. Ratio data has a true zero point, which represents the complete absence of the attribute being measured. Interval data, on the other hand, does not have a true zero point, meaning that zero does not indicate the complete absence of the attribute being measured.\n",
    "\n",
    "In summary, interval and ratio data are two types of quantitative data in statistics. Interval data has a meaningful scale where the difference between values is meaningful, while ratio data has a meaningful scale where the ratio between values is meaningful and has a true zero point.\n",
    "\n",
    "Some examples of interval and ratio data:\n",
    "\n",
    "Interval data:\n",
    "\n",
    " - Temperature (in Celsius or Fahrenheit)\n",
    " - IQ score\n",
    " - Time (in seconds, minutes, or hours)\n",
    " - pH level\n",
    " - Calendar dates (days, months, years)\n",
    " - Longitude and latitude coordinates\n",
    "\n",
    "Ratio data:\n",
    "\n",
    " - Height\n",
    " - Weight\n",
    " - Length\n",
    " - Distance\n",
    " - Time (in seconds or other units)\n",
    " - Volume\n",
    " - Age\n",
    " - Income\n",
    " - Number of items or units\n",
    " - Blood pressure\n",
    " - Speed\n",
    "\n",
    "It is important to note that the same variable can be considered interval or ratio depending on the context. For example, when measuring length, it can be considered interval data if we are using a measurement scale where zero is arbitrary (e.g. Celsius temperature scale), but it is ratio data if we are using a measurement scale where zero is absolute and represents the complete absence of the attribute being measured (e.g. weight in kilograms)."
   ]
  },
  {
   "attachments": {},
   "cell_type": "markdown",
   "metadata": {},
   "source": [
    "### What are the Measures of central tendency in statistics with their formulas, examples & limitations?"
   ]
  },
  {
   "attachments": {},
   "cell_type": "markdown",
   "metadata": {},
   "source": [
    "Measures of central tendency are used to describe the center of a distribution or dataset. The three most common measures of central tendency are the mean, median, and mode.\n",
    "\n",
    " - Mean: The mean is the most commonly used measure of central tendency, and it is calculated by adding up all the values in a dataset and dividing by the total number of values. \n",
    " \n",
    " The formula for the mean is:\n",
    "\n",
    "mean = (sum of all values) / (number of values)\n",
    "\n",
    "Example: Consider the following dataset: 5, 8, 12, 16, 20. The mean is calculated as: (5 + 8 + 12 + 16 + 20) / 5 = 12.2.\n",
    "\n",
    " - Limitations: The mean is sensitive to extreme values or outliers, which can distort its value.\n",
    "\n",
    " - Median: The median is the middle value in a dataset when the values are arranged in order from lowest to highest. If there is an even number of values, then the median is the average of the two middle values. \n",
    " \n",
    " The formula for the median is:\n",
    "\n",
    "median = middle value or (average of two middle values)\n",
    "\n",
    "Example: Consider the following dataset: 5, 8, 12, 16, 20. The median is 12.\n",
    "\n",
    " - Limitations: The median is less sensitive to extreme values or outliers than the mean, but it may not accurately represent the center of the distribution if there are extreme values present.\n",
    "\n",
    " - Mode: The mode is the value that appears most frequently in a dataset. A dataset can have one mode, more than one mode, or no mode at all. \n",
    " \n",
    " The formula for the mode is:\n",
    "\n",
    "mode = value(s) with the highest frequency\n",
    "\n",
    "Example: Consider the following dataset: 5, 8, 12, 16, 20, 20. The mode is 20.\n",
    "\n",
    " - Limitations: The mode may not be unique, or it may not exist if no value appears more than once in the dataset.\n",
    "\n",
    "Limitations of measures of central tendency: It is important to note that while measures of central tendency provide useful information about the center of a distribution, they do not provide any information about the spread or variability of the data. Additionally, measures of central tendency can be influenced by outliers or skewed distributions, so it is important to consider other measures, such as the range or standard deviation, to gain a more complete understanding of the data."
   ]
  },
  {
   "attachments": {},
   "cell_type": "markdown",
   "metadata": {},
   "source": [
    "### How to calculate mean, median and mode using python with examples?"
   ]
  },
  {
   "cell_type": "code",
   "execution_count": 6,
   "metadata": {},
   "outputs": [
    {
     "name": "stdout",
     "output_type": "stream",
     "text": [
      "Mean: 12.2\n",
      "Median: 12.0\n"
     ]
    }
   ],
   "source": [
    "import numpy as np\n",
    "from scipy import stats\n",
    "\n",
    "# create a dataset\n",
    "data = [5, 8, 12, 16, 20]\n",
    "\n",
    "# calculate the mean\n",
    "mean = np.mean(data)\n",
    "\n",
    "# print the mean\n",
    "print(\"Mean:\", mean)\n",
    "\n",
    "\n",
    "# calculate the median\n",
    "median = np.median(data)\n",
    "\n",
    "# print the median\n",
    "print(\"Median:\", median)"
   ]
  },
  {
   "cell_type": "code",
   "execution_count": 10,
   "metadata": {},
   "outputs": [
    {
     "name": "stdout",
     "output_type": "stream",
     "text": [
      "Mode: [20]\n"
     ]
    }
   ],
   "source": [
    "# create a dataset\n",
    "data = [5, 8, 12, 16, 20, 20]\n",
    "\n",
    "# calculate the mode\n",
    "mode = stats.mode(data, keepdims=True)\n",
    "\n",
    "# print the mode\n",
    "print(\"Mode:\", mode.mode)\n",
    "\n",
    "# Note that the mode() function returns an object that includes both the mode(s) and the count(s) of the mode(s), so we need to access the mode attribute to get the mode value(s) themselves."
   ]
  }
 ],
 "metadata": {
  "kernelspec": {
   "display_name": "machinelearning",
   "language": "python",
   "name": "python3"
  },
  "language_info": {
   "codemirror_mode": {
    "name": "ipython",
    "version": 3
   },
   "file_extension": ".py",
   "mimetype": "text/x-python",
   "name": "python",
   "nbconvert_exporter": "python",
   "pygments_lexer": "ipython3",
   "version": "3.9.15"
  },
  "orig_nbformat": 4
 },
 "nbformat": 4,
 "nbformat_minor": 2
}
