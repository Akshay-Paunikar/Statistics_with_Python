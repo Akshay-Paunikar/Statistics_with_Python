{
 "cells": [
  {
   "attachments": {},
   "cell_type": "markdown",
   "metadata": {},
   "source": [
    "### What is a Distribution in Statistics?"
   ]
  },
  {
   "attachments": {},
   "cell_type": "markdown",
   "metadata": {},
   "source": [
    "In statistics, the term \"distribution\" refers to the way in which a set of values or data points is spread or organized. It provides information about the possible values that a variable can take and how frequently each value occurs. A distribution is essentially a mathematical function that describes the probabilities of different outcomes or events.\n",
    "\n",
    "Distributions provide important information about central tendencies (such as mean, median, and mode), variability (such as standard deviation and variance), skewness (asymmetry), and kurtosis (peakedness or flatness) of the data. They are fundamental tools in statistical analysis and modeling, helping to understand and make inferences about data and populations.\n",
    "\n",
    "The choice of distribution depends on the characteristics of the data and the specific problem at hand. By understanding the distribution of a dataset, statisticians can make inferences, estimate parameters, and perform hypothesis testing, among other statistical analyses."
   ]
  },
  {
   "attachments": {},
   "cell_type": "markdown",
   "metadata": {},
   "source": [
    "### What are the types of Distributions in Statistics ?"
   ]
  },
  {
   "attachments": {},
   "cell_type": "markdown",
   "metadata": {},
   "source": [
    "There are several types of distributions in statistics. Here are some of the most commonly encountered ones:\n",
    "\n",
    " - Normal Distribution (Gaussian Distribution): The normal distribution is symmetric and bell-shaped, characterized by its mean and standard deviation. It is widely used in statistics due to its mathematical properties and because many natural phenomena follow a normal distribution.\n",
    "    - The heights of adult males in a population.\n",
    "    - The scores of a standardized test where the scores follow a bell-shaped pattern.\n",
    "    - The distribution of IQ scores in a population.\n",
    "    - The distribution of body weights in a large sample of newborn babies.\n",
    "    - The distribution of monthly rainfall measurements in a specific region.\n",
    "    - The distribution of body temperatures in a population.\n",
    "    \n",
    "    <br>\n",
    "\n",
    " - Binomial Distribution: The binomial distribution describes the number of successes in a fixed number of independent Bernoulli trials, where each trial has two possible outcomes (success or failure) and the probability of success remains constant. It is often used in situations where there are only two possible outcomes, such as flipping a coin or conducting surveys with yes/no questions.\n",
    "    - The number of heads obtained when flipping a coin 10 times.\n",
    "    - The number of defective items in a sample of 100 randomly selected items from a production line.\n",
    "    - The number of successful free throws in a basketball game, where each shot has a fixed probability of success.\n",
    "    - The number of defective light bulbs in a box of 20, where each bulb has a known probability of being defective.\n",
    "    - The number of successful attempts in a series of 10 basketball free throws.\n",
    "    - The number of individuals in a sample who have a specific genetic trait.\n",
    "    \n",
    "    <br>\n",
    "\n",
    " - Poisson Distribution: The Poisson distribution models the number of events occurring in a fixed interval of time or space, given the average rate of occurrence. It is commonly used for rare events or events that occur randomly over a continuous interval, such as the number of phone calls received at a call center in a given hour.\n",
    "    - The number of customers arriving at a store in a given hour.\n",
    "    - The number of emails received per day.\n",
    "    - The number of accidents per day at a busy intersection.\n",
    "    - The number of phone calls received by a call center in a given minute.\n",
    "    - The number of cars passing through a toll booth in a given hour.\n",
    "    - The number of typos in a randomly selected page of a book.\n",
    "    \n",
    "    <br>\n",
    "\n",
    " - Exponential Distribution: The exponential distribution represents the time between events occurring in a Poisson process, where events occur continuously and independently at a constant average rate. It is frequently used to model the time to failure or waiting times between events.\n",
    "    - The time it takes for the next car to pass by a particular intersection.\n",
    "    - The time between consecutive radioactive decay events.\n",
    "    - The time it takes for a light bulb to burn out.\n",
    "    - The time between consecutive phone calls received at a call center.\n",
    "    - The time between successive earthquakes in a particular region.\n",
    "    - The time it takes for a customer to be served at a fast-food restaurant.\n",
    "    \n",
    "    <br>\n",
    "\n",
    " - Uniform Distribution: The uniform distribution is characterized by a constant probability for all values within a specific range. It assumes that all outcomes in the range are equally likely. It is often used in situations where there is no specific reason to favor any particular value over others.\n",
    "    - Rolling a fair six-sided die, where each outcome (1, 2, 3, 4, 5, 6) is equally likely.\n",
    "    - Generating random numbers between 0 and 1.\n",
    "    - Selecting a random time for a scheduled event within a specified time interval.\n",
    "    - Randomly selecting a time between 9 AM and 5 PM.\n",
    "    - Rolling a fair twenty-sided die, where each outcome is equally likely.\n",
    "    \n",
    "    <br>\n",
    "\n",
    " - Chi-Square Distribution: The chi-square distribution arises from the sum of the squares of independent standard normal random variables. It is commonly used in hypothesis testing and constructing confidence intervals for population variances.\n",
    "    - Testing the goodness of fit of observed data to an expected distribution.\n",
    "    - Evaluating the independence of categorical variables in a contingency table.\n",
    "    - Testing the independence of two categorical variables, such as smoking habits and lung disease.\n",
    "    - Evaluating the goodness of fit of observed data to an expected distribution, such as testing whether observed frequencies match expected frequencies in a survey.\n",
    "    - Assessing the fit of a model to observed data in regression analysis.\n",
    "    \n",
    "    <br>\n",
    "\n",
    " - Student's t-Distribution: The t-distribution is often used when working with small sample sizes or when the population standard deviation is unknown. It is widely used in hypothesis testing and constructing confidence intervals for means.\n",
    "    - Calculating a confidence interval for the average weight of a small sample of individuals.\n",
    "    - Testing the significance of a difference between two sample means with small sample sizes.\n",
    "    - Comparing the average test scores of two different groups of students.\n",
    "    - Evaluating the effect of a new teaching method on student performance.\n",
    "    - Testing the difference in mean scores of two groups of students in a small sample.\n",
    "    - Constructing a confidence interval for the average reaction time of participants in a psychology experiment."
   ]
  },
  {
   "attachments": {},
   "cell_type": "markdown",
   "metadata": {},
   "source": [
    "### What is a Normal Distribution?"
   ]
  },
  {
   "attachments": {},
   "cell_type": "markdown",
   "metadata": {},
   "source": [
    "A normal distribution, also known as a Gaussian distribution or bell curve, is a symmetric probability distribution that is characterized by its mean and standard deviation. It is one of the most widely used distributions in statistics and has several important properties.\n",
    "\n",
    "The shape of a normal distribution is symmetric, meaning that the distribution is evenly balanced around its mean. The mean, median, and mode of a normal distribution are all equal, and they represent the center of the distribution. The standard deviation determines the spread or variability of the data points around the mean.\n",
    "\n",
    "Examples of normal distributions and their interpretations include:\n",
    "\n",
    " - Heights of Adult Males: The distribution of heights of adult males tends to follow a normal distribution. The mean height represents the average height of the population, while the standard deviation indicates the typical range of heights around the mean. For example, if the mean height is 5'10\" with a standard deviation of 2 inches, it suggests that most men fall within a range of heights close to 5'10\", and fewer individuals would be significantly taller or shorter.\n",
    "\n",
    " - Exam Scores: In a large class, if the exam scores are normally distributed, it means that most students would have scores near the class average. The mean represents the class average score, and the standard deviation indicates how scores are spread around that average. For instance, if the mean score is 75 with a standard deviation of 10, it suggests that many students scored close to 75, with fewer students receiving scores significantly higher or lower.\n",
    "\n",
    " - IQ Scores: IQ scores are often assumed to follow a normal distribution. The mean IQ score is typically set at 100, and the standard deviation is set at 15. A person with an IQ of 100 is considered average, and the distribution shows how many individuals fall within different IQ ranges. For example, approximately 68% of the population falls within one standard deviation of the mean, so IQ scores between 85 and 115 are considered within the average range.\n",
    "\n",
    "Interpreting a normal distribution allows us to make probabilistic statements. Since the normal distribution is well-studied and its properties are understood, it enables us to calculate the probability of an event occurring within a specific range. For instance, we can determine the probability of finding a person with a height between two given values or the likelihood of a student scoring above a particular threshold on an exam.\n",
    "\n",
    "The normal distribution's importance lies in its applications across various fields, including social sciences, natural sciences, engineering, finance, and more. It serves as a foundational concept for many statistical techniques and hypothesis testing methods."
   ]
  },
  {
   "attachments": {},
   "cell_type": "markdown",
   "metadata": {},
   "source": [
    "### What is Standard Normal Distribution?\n",
    "The standard normal distribution, also known as the z-distribution or the standard Gaussian distribution, is a specific form of the normal distribution. It has a mean of zero and a standard deviation of one, which makes it a standardized version of the normal distribution. The standardization process involves transforming any value from a normal distribution into a corresponding value on the standard normal distribution using a conversion formula.\n",
    "\n",
    "Examples and interpretations of the standard normal distribution include:\n",
    "\n",
    "Z-Scores: A z-score represents the number of standard deviations a particular value is away from the mean of a distribution. In the case of the standard normal distribution, a z-score of 0 corresponds to the mean, and positive or negative z-scores indicate values above or below the mean, respectively. For example, a z-score of 1 means the value is one standard deviation above the mean, while a z-score of -2 means the value is two standard deviations below the mean.\n",
    "\n",
    "Percentiles: The standard normal distribution is often used to determine percentiles, which represent the relative position of a value within the distribution. For instance, the 90th percentile of the standard normal distribution corresponds to the value below which 90% of the data falls. Similarly, the 25th percentile corresponds to the value below which 25% of the data falls.\n",
    "\n",
    "Probability Calculations: The standard normal distribution allows for the calculation of probabilities using z-scores. By converting a value into a z-score, you can determine the probability of obtaining a value less than, greater than, or between specific values. This is helpful when making statistical inferences or conducting hypothesis tests. For example, you can calculate the probability of obtaining a z-score greater than 2 or between -1 and 1.\n",
    "\n",
    "Interpreting the standard normal distribution involves using z-scores and percentiles to assess the relative position or likelihood of a value within the distribution. A positive z-score indicates a value above the mean, while a negative z-score indicates a value below the mean. Percentiles provide a way to compare values to the rest of the distribution, expressing how rare or common a value is.\n",
    "\n",
    "The standard normal distribution is widely used in statistical analysis, hypothesis testing, and confidence interval calculations. By converting values to z-scores and referencing the standard normal distribution, researchers can make comparisons, determine significance levels, and estimate probabilities in a standardized and comparable manner."
   ]
  },
  {
   "attachments": {},
   "cell_type": "markdown",
   "metadata": {},
   "source": [
    "### What is Binomial Distribution?\n",
    "The binomial distribution is a probability distribution that models the number of successes in a fixed number of independent Bernoulli trials, where each trial has two possible outcomes: success or failure. It is characterized by two parameters: the number of trials (n) and the probability of success (p).\n",
    "\n",
    "Examples and interpretations related to the binomial distribution include:\n",
    "\n",
    "Coin Flipping: Consider flipping a fair coin 10 times. Each flip is an independent trial with two possible outcomes: heads (success) or tails (failure). The number of heads obtained in 10 flips follows a binomial distribution with n = 10 and p = 0.5 (assuming a fair coin). The distribution allows us to calculate the probabilities of obtaining a specific number of heads (e.g., P(X = 3), meaning the probability of getting exactly 3 heads).\n",
    "\n",
    "Survey Responses: Suppose you conduct a survey with a Yes/No question and receive responses from 100 participants. Each participant's response is an independent trial with two outcomes: Yes (success) or No (failure). The number of participants who respond \"Yes\" can be modeled using a binomial distribution with n = 100 and p representing the probability of a \"Yes\" response. This distribution helps us estimate the proportion of participants likely to respond positively.\n",
    "\n",
    "Defective Products: In quality control, the binomial distribution can be used to model the number of defective products in a sample. For instance, if you randomly select 50 items from a production line where the probability of a defective item is 0.05, the number of defective items follows a binomial distribution with n = 50 and p = 0.05. This distribution allows us to assess the likelihood of observing a specific number of defective items in the sample.\n",
    "\n",
    "Success Rates: The binomial distribution can represent success rates in various scenarios. For example, if a basketball player has a free-throw success rate of 80% and attempts 20 free throws in a game, the number of successful free throws follows a binomial distribution with n = 20 and p = 0.8. This distribution enables us to calculate the probabilities of different outcomes, such as the likelihood of making at least 15 free throws.\n",
    "\n",
    "Interpreting the binomial distribution involves calculating probabilities of specific outcomes or ranges of outcomes. It helps in understanding the likelihood of observing a certain number of successes (or failures) in a fixed number of trials. The mean of a binomial distribution is given by μ = n * p, and the standard deviation is σ = sqrt(n * p * (1 - p)), which provide information about the average and variability of the distribution.\n",
    "\n",
    "The binomial distribution is widely used in various fields, including statistics, quality control, biology, and social sciences, where events can be classified into two categories and the number of successes is of interest."
   ]
  },
  {
   "attachments": {},
   "cell_type": "markdown",
   "metadata": {},
   "source": [
    "### What is Poisson Distribution?\n",
    "The Poisson distribution is a discrete probability distribution that models the number of events occurring in a fixed interval of time or space, given the average rate of occurrence. It is characterized by a single parameter, λ (lambda), which represents the average rate at which events occur.\n",
    "\n",
    "Examples and interpretations related to the Poisson distribution include:\n",
    "\n",
    "Call Center: Consider a call center that receives an average of 20 phone calls per hour. The number of calls received in a specific hour can be modeled using a Poisson distribution with λ = 20. This distribution allows us to calculate the probabilities of different numbers of calls in that hour, such as the probability of receiving exactly 15 calls or more than 25 calls.\n",
    "\n",
    "Accidents: Suppose the average number of car accidents that occur at a particular intersection is 3 per week. The number of accidents happening in a given week can be modeled using a Poisson distribution with λ = 3. This distribution helps us estimate the probabilities of observing a specific number of accidents, such as the probability of no accidents occurring or more than 5 accidents occurring in a week.\n",
    "\n",
    "Particle Decay: In nuclear physics, the Poisson distribution is often used to model the number of particles that decay within a fixed time period. The decay events are assumed to occur randomly and independently, with the average rate of decay represented by λ. The Poisson distribution helps estimate the probabilities of observing different numbers of decay events.\n",
    "\n",
    "Typing Errors: Suppose a typist makes an average of 2 errors per page while typing a manuscript. The number of errors on a specific page can be modeled using a Poisson distribution with λ = 2. This distribution allows us to assess the likelihood of observing a certain number of errors on a page, such as the probability of no errors or more than 4 errors.\n",
    "\n",
    "Interpreting the Poisson distribution involves calculating probabilities associated with the number of events occurring in a given interval. The mean (μ) and variance (σ^2) of the Poisson distribution are both equal to λ, indicating that the distribution's shape and spread are determined by the average rate of occurrence.\n",
    "\n",
    "The Poisson distribution is commonly used in fields such as statistics, epidemiology, insurance, and reliability engineering, where the focus is on the occurrence of rare events over time or space. It provides a useful framework for analyzing and predicting event frequencies based on historical or expected rates of occurrence."
   ]
  },
  {
   "attachments": {},
   "cell_type": "markdown",
   "metadata": {},
   "source": [
    "### What is Exponential Distribution?\n",
    "The exponential distribution is a continuous probability distribution that models the time between events occurring in a Poisson process, where events occur randomly and independently at a constant average rate. It is characterized by a single parameter, λ (lambda), which represents the average rate of occurrence.\n",
    "\n",
    "Examples and interpretations related to the exponential distribution include:\n",
    "\n",
    "Interarrival Times: Suppose customers arrive at a bank according to a Poisson process with an average rate of 10 customers per hour. The time between consecutive customer arrivals can be modeled using an exponential distribution with λ = 10. This distribution allows us to calculate the probabilities of different waiting times, such as the probability of waiting less than 5 minutes or more than 15 minutes before the next customer arrives.\n",
    "\n",
    "Machine Failure: Consider a machine that fails randomly and independently at an average rate of 0.1 failures per hour. The time until the next machine failure can be modeled using an exponential distribution with λ = 0.1. This distribution helps estimate the probabilities of different survival times, such as the probability of the machine surviving for more than 10 hours without failing.\n",
    "\n",
    "Service Times: In a service system, such as a queue at a fast-food restaurant, the time it takes to serve a customer can often be modeled using an exponential distribution. The average service rate (the reciprocal of the average service time) corresponds to λ in the exponential distribution. This distribution allows us to analyze and estimate various performance metrics of the service system, such as the average waiting time or the probability of a customer waiting more than a certain time.\n",
    "\n",
    "Radioactive Decay: The exponential distribution is commonly used in the field of physics to model the time it takes for a radioactive substance to decay. The decay events occur randomly and independently, and the average rate of decay is represented by λ. This distribution enables us to estimate the probabilities of different decay times for radioactive substances.\n",
    "\n",
    "Interpreting the exponential distribution involves calculating probabilities associated with the time until the next event occurs in a Poisson process. The distribution is memoryless, meaning that the probability of an event occurring in the next unit of time is not affected by the time already elapsed. The mean (μ) and variance (σ^2) of the exponential distribution are both equal to 1/λ, indicating the average waiting or survival time.\n",
    "\n",
    "The exponential distribution finds applications in various fields such as queuing theory, reliability analysis, telecommunications, and finance. It provides a useful tool for modeling and analyzing continuous random variables associated with the time between events in scenarios where events occur randomly and independently at a constant average rate."
   ]
  },
  {
   "attachments": {},
   "cell_type": "markdown",
   "metadata": {},
   "source": [
    "### What is Uniform Distribution?\n",
    "The uniform distribution is a continuous probability distribution where all values within a given interval are equally likely to occur. It is characterized by two parameters, a and b, which represent the lower and upper bounds of the interval.\n",
    "\n",
    "Examples and interpretations related to the uniform distribution include:\n",
    "\n",
    "Rolling a Fair Die: When rolling a fair six-sided die, each face has an equal probability of occurring. The outcome of rolling the die can be modeled using a uniform distribution with a = 1 and b = 6. This distribution implies that each number from 1 to 6 has an equal chance of being rolled.\n",
    "\n",
    "Random Number Generation: In computer science and simulations, generating random numbers within a specific range often follows a uniform distribution. For example, if we want to generate random integers between 1 and 100, we can use a uniform distribution with a = 1 and b = 100. This distribution ensures that each integer in the range has an equal probability of being selected.\n",
    "\n",
    "Waiting Times: Suppose you arrive at a bus stop, and buses arrive every 15 minutes with equal probability within that time frame. The waiting time for the next bus can be modeled using a uniform distribution with a = 0 and b = 15. This distribution implies that any waiting time between 0 and 15 minutes is equally likely.\n",
    "\n",
    "Lottery Numbers: In some lotteries, numbers are drawn randomly from a fixed range, such as selecting six numbers between 1 and 49. The selection of lottery numbers can be modeled using a uniform distribution with a = 1 and b = 49. This distribution implies that each number within the range has an equal probability of being drawn.\n",
    "\n",
    "Interpreting the uniform distribution involves recognizing that each value within the specified interval has the same probability of occurring. The probability density function is constant within the interval and zero outside it. The mean of the uniform distribution is given by (a + b) / 2, and the variance is given by (b - a)^2 / 12.\n",
    "\n",
    "The uniform distribution is widely used in areas such as probability theory, simulations, random sampling, and random number generation. It provides a simple and intuitive model when all outcomes within a range are equally likely."
   ]
  },
  {
   "attachments": {},
   "cell_type": "markdown",
   "metadata": {},
   "source": [
    "### What is Chi-Square Distribution?\n",
    "The chi-square distribution is a continuous probability distribution that arises in statistics and is commonly used in hypothesis testing and constructing confidence intervals. It is characterized by a parameter called degrees of freedom (df).\n",
    "\n",
    "Examples and interpretations related to the chi-square distribution include:\n",
    "\n",
    "Goodness of Fit Test: The chi-square distribution is often used in a goodness of fit test to assess whether observed data fits a theoretical distribution. For example, suppose we collect data on the eye color of 200 individuals and want to test whether the distribution of eye colors follows the expected proportions (e.g., 25% blue, 50% brown, 25% green). The chi-square test compares the observed frequencies to the expected frequencies and calculates a test statistic that follows a chi-square distribution with degrees of freedom equal to the number of categories minus one.\n",
    "\n",
    "Independence Test: The chi-square distribution is used in the chi-square test of independence, which examines whether two categorical variables are independent or related. For instance, suppose we want to investigate whether there is a relationship between gender (male or female) and smoking status (smoker or non-smoker). The chi-square test of independence uses a contingency table to compare observed frequencies to expected frequencies under the assumption of independence. The test statistic follows a chi-square distribution with degrees of freedom determined by the dimensions of the contingency table.\n",
    "\n",
    "Variance Estimation: The chi-square distribution is utilized in estimating the variance of a population based on sample data. For example, in estimating the variance of a population, the sample variance follows a chi-square distribution with degrees of freedom equal to the sample size minus one.\n",
    "\n",
    "Model Evaluation: In regression analysis, the chi-square distribution is employed to assess the overall goodness of fit of a model. The chi-square test statistic is calculated by comparing the observed response values with the predicted values from the regression model. The test statistic follows a chi-square distribution with degrees of freedom equal to the difference between the total number of observations and the number of parameters estimated in the model.\n",
    "\n",
    "Interpreting the chi-square distribution involves calculating probabilities associated with the test statistic and comparing it to critical values. The shape of the distribution is skewed to the right, and its specific shape depends on the degrees of freedom. As the degrees of freedom increase, the distribution becomes more symmetric and approaches a bell-shaped curve.\n",
    "\n",
    "The chi-square distribution is fundamental in various statistical analyses and plays a crucial role in hypothesis testing, model evaluation, and variance estimation. Its properties and applications make it a valuable tool for researchers and analysts working with categorical and count data."
   ]
  },
  {
   "attachments": {},
   "cell_type": "markdown",
   "metadata": {},
   "source": [
    "### What is Students t-distribution?\n",
    "Student's t-distribution is a continuous probability distribution that arises in statistics and is commonly used when working with small sample sizes or when the population standard deviation is unknown. It is characterized by a parameter called degrees of freedom (df).\n",
    "\n",
    "Examples and interpretations related to Student's t-distribution include:\n",
    "\n",
    "One-Sample t-test: The t-distribution is often used in hypothesis testing when comparing the mean of a sample to a known or hypothesized population mean. For example, suppose we want to test whether the average height of a sample of 30 individuals is significantly different from the average height of the general population. In this case, we would calculate the t-statistic using the sample mean, sample standard deviation, and the degrees of freedom (df = n - 1) to compare it to critical values from the t-distribution table.\n",
    "\n",
    "Confidence Intervals: Student's t-distribution is used in constructing confidence intervals for population parameters when the sample size is small or the population standard deviation is unknown. For instance, if we want to estimate the average weight of a population based on a sample of 20 individuals, we can calculate a confidence interval using the sample mean, sample standard deviation, and the appropriate critical values from the t-distribution.\n",
    "\n",
    "Comparison of Two Sample Means: The t-distribution is employed in comparing the means of two independent samples when the sample sizes are small or the population standard deviations are unknown and assumed to be unequal. This is done using the two-sample t-test, which calculates the t-statistic based on the means, standard deviations, and sample sizes of the two groups. The degrees of freedom are determined by a formula that accounts for the sample sizes and variances of the two groups.\n",
    "\n",
    "Regression Analysis: In linear regression, Student's t-distribution is used to assess the significance of regression coefficients and to construct confidence intervals for the coefficients. The t-statistics are calculated by dividing the estimated coefficients by their standard errors, and their distributions follow the t-distribution with degrees of freedom equal to the sample size minus the number of predictors.\n",
    "\n",
    "Interpreting Student's t-distribution involves calculating probabilities associated with the t-statistic and comparing it to critical values. The shape of the distribution is symmetric and bell-shaped, similar to the standard normal distribution. However, the t-distribution has heavier tails, reflecting greater uncertainty in small sample sizes.\n",
    "\n",
    "Student's t-distribution is a fundamental tool in statistical inference and is widely used in hypothesis testing, confidence interval estimation, and comparing groups or variables. It provides a more appropriate distribution for inference when working with small samples or unknown population variances, allowing for more accurate statistical analysis."
   ]
  },
  {
   "attachments": {},
   "cell_type": "markdown",
   "metadata": {},
   "source": []
  }
 ],
 "metadata": {
  "kernelspec": {
   "display_name": "machinelearning",
   "language": "python",
   "name": "python3"
  },
  "language_info": {
   "name": "python",
   "version": "3.9.15"
  },
  "orig_nbformat": 4
 },
 "nbformat": 4,
 "nbformat_minor": 2
}
