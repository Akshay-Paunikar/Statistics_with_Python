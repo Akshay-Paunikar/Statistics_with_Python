{
 "cells": [
  {
   "attachments": {},
   "cell_type": "markdown",
   "metadata": {},
   "source": [
    "### Covariance, Correlation & Coefficient of Correlation"
   ]
  },
  {
   "attachments": {
    "image-3.png": {
     "image/png": "[encoded data removed]"
    },
    "image.png": {
     "image/png": "[encoded data removed]"
    }
   },
   "cell_type": "markdown",
   "metadata": {},
   "source": [
    "- Correlation:\n",
    "\n",
    "Correlation is a statistical measure that describes the strength and direction of a linear relationship between two variables. The most commonly used correlation coefficient is the Pearson correlation coefficient, which ranges from -1 to +1, where -1 indicates a perfect negative correlation, 0 indicates no correlation, and +1 indicates a perfect positive correlation.\n",
    "\n",
    "The formula for calculating the Pearson correlation coefficient (r) is:\n",
    "\n",
    "![image.png](attachment:image.png)\n",
    "\n",
    "where x and y are the variables being analyzed, n is the number of observations, xi and yi are the values of x and y for the ith observation, and x̄ and ȳ are the mean values of x and y, respectively.\n",
    "\n",
    "- Covariance:\n",
    "\n",
    "Covariance is a statistical measure that describes how two variables vary together. If the two variables increase or decrease together, their covariance is positive. If they vary in opposite directions, their covariance is negative.\n",
    "\n",
    "The formula for calculating covariance is:\n",
    "\n",
    "![image.png](attachment:image-3.png)\n",
    "\n",
    "where X and Y are the variables being analyzed, n is the number of observations, xi and yi are the values of X and Y for the ith observation, and x̄ and ȳ are the mean values of X and Y, respectively.\n",
    "\n",
    "For example, let's say we have the following two sets of data:\n",
    "\n",
    "X = {1, 2, 3, 4, 5}\n",
    "Y = {6, 7, 8, 9, 10}\n",
    "\n",
    "The means of X and Y are both 3. The covariance between X and Y is:\n",
    "\n",
    "Cov(X,Y) = ((1-3)(6-8) + (2-3)(7-8) + (3-3)(8-8) + (4-3)(9-8) + (5-3)*(10-8))/5\n",
    "= 2.0\n",
    "\n",
    "This positive covariance indicates that X and Y tend to increase together.\n",
    "\n",
    "- Correlation coefficient:\n",
    "\n",
    "The correlation coefficient is the same as the correlation but expressed as a single number between -1 and 1.\n",
    "\n",
    "The formula for the correlation coefficient (r) is:\n",
    "\n",
    "r = Cov(X,Y) / (SD(X) * SD(Y))\n",
    "\n",
    "For example, using the same data as before:\n",
    "\n",
    "X = {1, 2, 3, 4, 5}\n",
    "Y = {6, 7, 8, 9, 10}\n",
    "\n",
    "The correlation coefficient between X and Y is:\n",
    "\n",
    "r = Cov(X,Y) / (SD(X) * SD(Y))\n",
    "= 2.0 / (1.58 * 1.58)\n",
    "= 0.63\n",
    "\n",
    "This means that there is a moderate positive correlation between X and Y.\n",
    "\n",
    "Note that the correlation coefficient only measures linear relationships between variables, and does not capture other types of relationships, such as curvilinear relationships.\n",
    "\n"
   ]
  },
  {
   "cell_type": "code",
   "execution_count": 1,
   "metadata": {},
   "outputs": [
    {
     "name": "stdout",
     "output_type": "stream",
     "text": [
      "Covariance: 2.5\n",
      "Correlation: 0.9999999999999999\n",
      "Correlation Coefficient: 0.9999999999999999\n"
     ]
    }
   ],
   "source": [
    "import numpy as np\n",
    "\n",
    "# Define two sets of data\n",
    "x = np.array([1, 2, 3, 4, 5])\n",
    "y = np.array([6, 7, 8, 9, 10])\n",
    "\n",
    "# Compute the covariance matrix\n",
    "cov_matrix = np.cov(x, y)\n",
    "\n",
    "# Extract the covariance value\n",
    "covariance = cov_matrix[0, 1]\n",
    "\n",
    "# Compute the correlation matrix\n",
    "corr_matrix = np.corrcoef(x, y)\n",
    "\n",
    "# Extract the correlation value\n",
    "correlation = corr_matrix[0, 1]\n",
    "\n",
    "# Compute the correlation coefficient\n",
    "corr_coef = np.corrcoef(x, y)[0, 1]\n",
    "\n",
    "print(\"Covariance:\", covariance)\n",
    "print(\"Correlation:\", correlation)\n",
    "print(\"Correlation Coefficient:\", corr_coef)"
   ]
  },
  {
   "attachments": {},
   "cell_type": "markdown",
   "metadata": {},
   "source": [
    "Note that the np.cov function returns a covariance matrix, which is a 2x2 matrix that contains the variances and covariances of the input variables. We extract the covariance value by selecting the element in the first row and second column (cov_matrix[0, 1]). Similarly, the np.corrcoef function returns a correlation matrix, which is also a 2x2 matrix that contains the correlations between the input variables. We extract the correlation value in the same way as for the covariance. Finally, we compute the correlation coefficient using the same formula as before (np.corrcoef(x, y)[0, 1])."
   ]
  },
  {
   "cell_type": "code",
   "execution_count": 3,
   "metadata": {},
   "outputs": [
    {
     "name": "stdout",
     "output_type": "stream",
     "text": [
      "Covariance: -5.0\n",
      "Correlation: -0.9999999999999999\n",
      "Correlation Coefficient: -0.9999999999999999\n"
     ]
    }
   ],
   "source": [
    "# Negative correlation\n",
    "# Define two sets of data with negative correlation\n",
    "x = np.array([1, 2, 3, 4, 5])\n",
    "y = np.array([10, 8, 6, 4, 2])\n",
    "\n",
    "# Compute the covariance and correlation\n",
    "covariance = np.cov(x, y)[0, 1]\n",
    "correlation = np.corrcoef(x, y)[0, 1]\n",
    "corr_coef = np.corrcoef(x, y)[0, 1]\n",
    "\n",
    "print(\"Covariance:\", covariance)\n",
    "print(\"Correlation:\", correlation)\n",
    "print(\"Correlation Coefficient:\", corr_coef)"
   ]
  },
  {
   "attachments": {},
   "cell_type": "markdown",
   "metadata": {},
   "source": [
    "In this example, the two sets of data have a strong negative correlation, as seen by the covariance, correlation, and correlation coefficient all being negative and equal to -1.0."
   ]
  },
  {
   "cell_type": "code",
   "execution_count": 4,
   "metadata": {},
   "outputs": [
    {
     "name": "stdout",
     "output_type": "stream",
     "text": [
      "Covariance: 5.0\n",
      "Correlation: 0.9999999999999999\n",
      "Correlation Coefficient: 0.9999999999999999\n"
     ]
    }
   ],
   "source": [
    "# Positive Correlation\n",
    "\n",
    "# Define two sets of data with positive correlation\n",
    "x = np.array([1, 2, 3, 4, 5])\n",
    "y = np.array([2, 4, 6, 8, 10])\n",
    "\n",
    "# Compute the covariance and correlation\n",
    "covariance = np.cov(x, y)[0, 1]\n",
    "correlation = np.corrcoef(x, y)[0, 1]\n",
    "corr_coef = np.corrcoef(x, y)[0, 1]\n",
    "\n",
    "print(\"Covariance:\", covariance)\n",
    "print(\"Correlation:\", correlation)\n",
    "print(\"Correlation Coefficient:\", corr_coef)\n"
   ]
  },
  {
   "attachments": {},
   "cell_type": "markdown",
   "metadata": {},
   "source": [
    "In this example, the two sets of data have a strong positive correlation, as seen by the covariance, correlation, and correlation coefficient all being positive and equal to 1.0."
   ]
  },
  {
   "cell_type": "code",
   "execution_count": 5,
   "metadata": {},
   "outputs": [
    {
     "name": "stdout",
     "output_type": "stream",
     "text": [
      "Covariance: -0.25\n",
      "Correlation: -0.09999999999999999\n",
      "Correlation Coefficient: -0.09999999999999999\n"
     ]
    }
   ],
   "source": [
    "# No Correlation\n",
    "\n",
    "# Define two sets of data with no correlation\n",
    "x = np.array([1, 2, 3, 4, 5])\n",
    "y = np.array([2, 4, 3, 5, 1])\n",
    "\n",
    "# Compute the covariance and correlation\n",
    "covariance = np.cov(x, y)[0, 1]\n",
    "correlation = np.corrcoef(x, y)[0, 1]\n",
    "corr_coef = np.corrcoef(x, y)[0, 1]\n",
    "\n",
    "print(\"Covariance:\", covariance)\n",
    "print(\"Correlation:\", correlation)\n",
    "print(\"Correlation Coefficient:\", corr_coef)"
   ]
  },
  {
   "attachments": {},
   "cell_type": "markdown",
   "metadata": {},
   "source": [
    "In this example, the two sets of data have no clear correlation, as seen by the covariance and correlation coefficient being positive but small, and the correlation being close to 0."
   ]
  },
  {
   "attachments": {},
   "cell_type": "markdown",
   "metadata": {},
   "source": [
    "### What is Causality in statistics?"
   ]
  },
  {
   "attachments": {},
   "cell_type": "markdown",
   "metadata": {},
   "source": [
    "Causality in statistics refers to the relationship between an event (the cause) and a second event (the effect), where the second event is understood as a consequence of the first. In other words, causality is the relationship between cause and effect, and it is concerned with understanding how one variable affects another variable.\n",
    "\n",
    "Establishing causality requires more than just observing that two variables are related - it requires demonstrating that the relationship between the two variables is not just due to chance, but is in fact a true cause-and-effect relationship. This can be challenging, as there may be other variables (known as confounding variables) that are related to both the cause and effect variables, which can make it difficult to determine which variable is truly causing the effect.\n",
    "\n",
    "To establish causality, researchers often use experimental designs, where one variable is manipulated (the independent variable) and the effect on another variable (the dependent variable) is observed. By controlling for other variables and randomizing the assignment of participants to different groups, researchers can establish a more causal relationship between the variables.\n",
    "\n",
    "Causality is an important concept in many fields, including science, medicine, social science, and economics, as it is necessary to understand the relationship between variables in order to make predictions and develop interventions that can improve outcomes."
   ]
  },
  {
   "attachments": {},
   "cell_type": "markdown",
   "metadata": {},
   "source": [
    "Some examples of causality in different fields:\n",
    "\n",
    " - Science: A researcher wants to investigate the effect of a new drug on blood pressure. In a randomized controlled trial, some participants are given the drug while others receive a placebo. The researcher measures the participants' blood pressure before and after the treatment. By comparing the results between the two groups, the researcher can establish causality and determine if the drug is effective at reducing blood pressure.\n",
    "\n",
    " - Medicine: A physician observes that patients who smoke have a higher risk of developing lung cancer. To establish causality, the physician may conduct a longitudinal study where patients are followed over time to see if smoking is associated with an increased risk of lung cancer, while controlling for other variables such as age, gender, and exposure to environmental toxins.\n",
    "\n",
    " - Social Science: A researcher wants to investigate whether a new intervention program is effective at reducing juvenile delinquency. The researcher randomly assigns participants to either receive the intervention or not, and tracks their behavior over time. By comparing the outcomes between the two groups, the researcher can establish causality and determine if the intervention is effective.\n",
    "\n",
    " - Economics: A policy maker wants to investigate the effect of a minimum wage increase on employment rates. By comparing employment rates before and after the minimum wage increase, while controlling for other variables such as inflation and economic growth, the policy maker can establish causality and determine if the minimum wage increase has had an impact on employment.\n",
    "\n",
    "In each of these examples, causality is established by carefully designing studies that control for confounding variables, randomizing participants or events, and observing the effect of one variable on another. By doing so, researchers can draw conclusions about the causal relationship between variables, which can inform policy decisions and improve outcomes."
   ]
  }
 ],
 "metadata": {
  "kernelspec": {
   "display_name": "machinelearning",
   "language": "python",
   "name": "python3"
  },
  "language_info": {
   "codemirror_mode": {
    "name": "ipython",
    "version": 3
   },
   "file_extension": ".py",
   "mimetype": "text/x-python",
   "name": "python",
   "nbconvert_exporter": "python",
   "pygments_lexer": "ipython3",
   "version": "3.9.15"
  },
  "orig_nbformat": 4
 },
 "nbformat": 4,
 "nbformat_minor": 2
}
